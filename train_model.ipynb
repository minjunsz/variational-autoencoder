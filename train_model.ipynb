{
 "cells": [
  {
   "cell_type": "markdown",
   "metadata": {},
   "source": [
    "# Train VAE"
   ]
  },
  {
   "cell_type": "markdown",
   "metadata": {},
   "source": [
    "## import required packages"
   ]
  },
  {
   "cell_type": "code",
   "execution_count": 1,
   "metadata": {},
   "outputs": [],
   "source": [
    "import pytorch_lightning as pl\n",
    "from pytorch_lightning.callbacks import ModelSummary\n",
    "\n",
    "from data_modules import MNIST\n",
    "from models.naive_vae import NaiveVAE"
   ]
  },
  {
   "cell_type": "markdown",
   "metadata": {},
   "source": [
    "## Instantiate pl.Datamodule & pl.LightningModule\n",
    "\n",
    "Data dir should be consistent in order not to re-download the dataset."
   ]
  },
  {
   "cell_type": "code",
   "execution_count": 2,
   "metadata": {},
   "outputs": [],
   "source": [
    "dm = MNIST.MNISTDataModule(\"./downloads\")\n",
    "dm.prepare_data()\n",
    "dm.setup()\n",
    "vae = NaiveVAE(in_channels=1, hidden_dim=[8, 16, 32, 64], latent_dim=128, lr=1e-4)"
   ]
  },
  {
   "cell_type": "markdown",
   "metadata": {},
   "source": [
    "## Debug model"
   ]
  },
  {
   "cell_type": "markdown",
   "metadata": {},
   "source": [
    "### fast_dev_run\n",
    "\n",
    "Thanks to pytorch-lightning's fast_dev_run mode, the model would be trained based on a single batch.  \n",
    "ModelSummary callback prints the dimension of the intermediate results, which is estimated according to the example input.\n",
    "The example input, `example_input_array`, is define in the model's `__init__` function."
   ]
  },
  {
   "cell_type": "code",
   "execution_count": null,
   "metadata": {},
   "outputs": [],
   "source": [
    "# debug train\n",
    "trainer = pl.Trainer(\n",
    "    fast_dev_run=True,\n",
    "    callbacks=[ModelSummary(max_depth=1)],\n",
    ")\n",
    "trainer.fit(model=vae, datamodule=dm)"
   ]
  },
  {
   "cell_type": "markdown",
   "metadata": {},
   "source": [
    "### Overfit on small batch\n",
    "\n",
    "In order to check whether the model is expressive enough, it'd be better to train on small batches. The model should overfit on them quickly.  \n",
    "Learning rate can be adjusted, by tracking gradients while overfitting."
   ]
  },
  {
   "cell_type": "code",
   "execution_count": null,
   "metadata": {},
   "outputs": [],
   "source": [
    "trainer = pl.Trainer(\n",
    "    default_root_dir=\"checkpoints/naive_vae\",\n",
    "    overfit_batches=10,\n",
    "    track_grad_norm=2,\n",
    "    max_epochs=500,\n",
    ")\n",
    "\n",
    "trainer.fit(model=vae, datamodule=dm)"
   ]
  },
  {
   "cell_type": "markdown",
   "metadata": {},
   "source": [
    "## Train the Model"
   ]
  },
  {
   "cell_type": "code",
   "execution_count": 3,
   "metadata": {},
   "outputs": [
    {
     "name": "stderr",
     "output_type": "stream",
     "text": [
      "GPU available: False, used: False\n",
      "TPU available: False, using: 0 TPU cores\n",
      "IPU available: False, using: 0 IPUs\n",
      "HPU available: False, using: 0 HPUs\n",
      "\n",
      "  | Name          | Type       | Params | In sizes        | Out sizes      \n",
      "---------------------------------------------------------------------------------\n",
      "0 | encode_blocks | Sequential | 24.6 K | [32, 1, 32, 32] | [32, 64, 2, 2] \n",
      "1 | decode_blocks | Sequential | 24.4 K | [32, 64, 2, 2]  | [32, 8, 16, 16]\n",
      "2 | fc_mu         | Linear     | 32.9 K | [32, 256]       | [32, 128]      \n",
      "3 | fc_logSigma   | Linear     | 32.9 K | [32, 256]       | [32, 128]      \n",
      "4 | decoder_init  | Linear     | 33.0 K | [32, 128]       | [32, 256]      \n",
      "5 | final_layer   | Sequential | 673    | [32, 8, 16, 16] | [32, 1, 32, 32]\n",
      "---------------------------------------------------------------------------------\n",
      "148 K     Trainable params\n",
      "0         Non-trainable params\n",
      "148 K     Total params\n",
      "0.594     Total estimated model params size (MB)\n"
     ]
    },
    {
     "data": {
      "application/vnd.jupyter.widget-view+json": {
       "model_id": "22d538ff9a0442b7a1dc8fcda1cf89b0",
       "version_major": 2,
       "version_minor": 0
      },
      "text/plain": [
       "Sanity Checking: 0it [00:00, ?it/s]"
      ]
     },
     "metadata": {},
     "output_type": "display_data"
    },
    {
     "data": {
      "application/vnd.jupyter.widget-view+json": {
       "model_id": "043baf5277524de3aa9ce7ffb708fb43",
       "version_major": 2,
       "version_minor": 0
      },
      "text/plain": [
       "Training: 0it [00:00, ?it/s]"
      ]
     },
     "metadata": {},
     "output_type": "display_data"
    },
    {
     "data": {
      "application/vnd.jupyter.widget-view+json": {
       "model_id": "2c7a1a382cec4433a4eb858a1530bdc6",
       "version_major": 2,
       "version_minor": 0
      },
      "text/plain": [
       "Validation: 0it [00:00, ?it/s]"
      ]
     },
     "metadata": {},
     "output_type": "display_data"
    },
    {
     "data": {
      "application/vnd.jupyter.widget-view+json": {
       "model_id": "9e5e5d3143a1412c90c8a0ced5083595",
       "version_major": 2,
       "version_minor": 0
      },
      "text/plain": [
       "Validation: 0it [00:00, ?it/s]"
      ]
     },
     "metadata": {},
     "output_type": "display_data"
    },
    {
     "data": {
      "application/vnd.jupyter.widget-view+json": {
       "model_id": "ea7f55e03dbd44558af5bae81d598fd5",
       "version_major": 2,
       "version_minor": 0
      },
      "text/plain": [
       "Validation: 0it [00:00, ?it/s]"
      ]
     },
     "metadata": {},
     "output_type": "display_data"
    },
    {
     "data": {
      "application/vnd.jupyter.widget-view+json": {
       "model_id": "8d9e74569c144a439646ed45fea423fe",
       "version_major": 2,
       "version_minor": 0
      },
      "text/plain": [
       "Validation: 0it [00:00, ?it/s]"
      ]
     },
     "metadata": {},
     "output_type": "display_data"
    },
    {
     "data": {
      "application/vnd.jupyter.widget-view+json": {
       "model_id": "f7176cd838924e9f9ef87f9ecef06c6e",
       "version_major": 2,
       "version_minor": 0
      },
      "text/plain": [
       "Validation: 0it [00:00, ?it/s]"
      ]
     },
     "metadata": {},
     "output_type": "display_data"
    }
   ],
   "source": [
    "trainer = pl.Trainer(\n",
    "    default_root_dir=\"checkpoints/naive_vae\",\n",
    "    track_grad_norm=2,\n",
    "    max_epochs=5,\n",
    "    check_val_every_n_epoch=1\n",
    ")\n",
    "trainer.fit(model=vae,datamodule=dm)"
   ]
  },
  {
   "cell_type": "code",
   "execution_count": null,
   "metadata": {},
   "outputs": [],
   "source": []
  }
 ],
 "metadata": {
  "kernelspec": {
   "display_name": "Python 3.10.5 64-bit",
   "language": "python",
   "name": "python3"
  },
  "language_info": {
   "codemirror_mode": {
    "name": "ipython",
    "version": 3
   },
   "file_extension": ".py",
   "mimetype": "text/x-python",
   "name": "python",
   "nbconvert_exporter": "python",
   "pygments_lexer": "ipython3",
   "version": "3.10.5"
  },
  "orig_nbformat": 4,
  "vscode": {
   "interpreter": {
    "hash": "767d51c1340bd893661ea55ea3124f6de3c7a262a8b4abca0554b478b1e2ff90"
   }
  }
 },
 "nbformat": 4,
 "nbformat_minor": 2
}
