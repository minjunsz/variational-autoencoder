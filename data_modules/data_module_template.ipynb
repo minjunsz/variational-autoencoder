{
 "cells": [
  {
   "cell_type": "code",
   "execution_count": 1,
   "id": "0f1ecfb1-53dd-4139-b93a-a10c592499e7",
   "metadata": {},
   "outputs": [],
   "source": [
    "from typing import Optional\n",
    "\n",
    "import pytorch_lightning as pl\n",
    "import torch\n",
    "from torch.utils.data import DataLoader, random_split\n",
    "from torchvision.datasets import MNIST\n",
    "from torchvision.transforms import Compose, Normalize, Resize, ToTensor"
   ]
  },
  {
   "cell_type": "code",
   "execution_count": null,
   "id": "c93b05e5-bc95-4fb6-a0cb-d5f0d6d3788e",
   "metadata": {},
   "outputs": [],
   "source": [
    "class MNISTDataModule(pl.LightningDataModule):\n",
    "    \"\"\"lightning MNIST datamodule with following transforms\n",
    "    (Resize:28x28->32x32, ToTensor, Normalize into [-1,1])\n",
    "    \"\"\"\n",
    "\n",
    "    def __init__(self, data_dir: str = \"./downloads\"):\n",
    "        super().__init__()\n",
    "        self.data_dir = data_dir\n",
    "        self.transform = Compose([Resize(32), ToTensor(), Normalize(0.5, 0.5)])\n",
    "\n",
    "    def prepare_data(self):\n",
    "        # download\n",
    "        MNIST(self.data_dir, train=True, download=True)\n",
    "        MNIST(self.data_dir, train=False, download=True)\n",
    "\n",
    "    def setup(self, stage: Optional[str] = None):\n",
    "\n",
    "        # Assign train/val datasets for use in dataloaders\n",
    "        if stage in (\"fit\", \"validate\", None):\n",
    "            mnist_full = MNIST(self.data_dir, train=True, transform=self.transform)\n",
    "            # use 20% of training data for validation\n",
    "            total_size = len(mnist_full)\n",
    "            train_size = int(total_size * 0.9)\n",
    "            valid_size = total_size - train_size\n",
    "            seed = torch.Generator().manual_seed(42)\n",
    "            self.mnist_train, self.mnist_val = random_split(\n",
    "                mnist_full, [train_size, valid_size], generator=seed\n",
    "            )\n",
    "\n",
    "        # Assign test dataset for use in dataloader(s)\n",
    "        if stage in (\"test\", None):\n",
    "            self.mnist_test = MNIST(\n",
    "                self.data_dir, train=False, transform=self.transform\n",
    "            )\n",
    "\n",
    "        if stage in (\"predict\", None):\n",
    "            self.mnist_predict = MNIST(\n",
    "                self.data_dir, train=False, transform=self.transform\n",
    "            )\n",
    "\n",
    "    def train_dataloader(self):\n",
    "        return DataLoader(self.mnist_train, batch_size=32)\n",
    "\n",
    "    def val_dataloader(self):\n",
    "        return DataLoader(self.mnist_val, batch_size=32)\n",
    "\n",
    "    def test_dataloader(self):\n",
    "        return DataLoader(self.mnist_test, batch_size=32)\n",
    "\n",
    "    def predict_dataloader(self):\n",
    "        return DataLoader(self.mnist_predict, batch_size=32)"
   ]
  }
 ],
 "metadata": {
  "kernelspec": {
   "display_name": "Python 3 (ipykernel)",
   "language": "python",
   "name": "python3"
  },
  "language_info": {
   "codemirror_mode": {
    "name": "ipython",
    "version": 3
   },
   "file_extension": ".py",
   "mimetype": "text/x-python",
   "name": "python",
   "nbconvert_exporter": "python",
   "pygments_lexer": "ipython3",
   "version": "3.9.13"
  }
 },
 "nbformat": 4,
 "nbformat_minor": 5
}
